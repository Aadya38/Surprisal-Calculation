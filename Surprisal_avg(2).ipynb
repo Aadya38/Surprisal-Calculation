{
  "nbformat": 4,
  "nbformat_minor": 0,
  "metadata": {
    "colab": {
      "provenance": []
    },
    "kernelspec": {
      "name": "python3",
      "display_name": "Python 3"
    },
    "language_info": {
      "name": "python"
    }
  },
  "cells": [
    {
      "cell_type": "code",
      "source": [
        "import pandas as pd"
      ],
      "metadata": {
        "id": "IFkr-IM_6NW0"
      },
      "execution_count": 6,
      "outputs": []
    },
    {
      "cell_type": "code",
      "source": [
        "df = pd.read_csv('joota_avg.csv')"
      ],
      "metadata": {
        "id": "_MjhIJEU6UY7"
      },
      "execution_count": 39,
      "outputs": []
    },
    {
      "cell_type": "code",
      "source": [
        "print_col = df.columns"
      ],
      "metadata": {
        "id": "-zUq2gC16hZU"
      },
      "execution_count": 40,
      "outputs": []
    },
    {
      "cell_type": "code",
      "source": [
        "print_col"
      ],
      "metadata": {
        "colab": {
          "base_uri": "https://localhost:8080/"
        },
        "id": "9WLv4QjG6-g6",
        "outputId": "2f21275f-3522-4957-be56-e51d0830dfa0"
      },
      "execution_count": 41,
      "outputs": [
        {
          "output_type": "execute_result",
          "data": {
            "text/plain": [
              "Index(['word', 'totsurp'], dtype='object')"
            ]
          },
          "metadata": {},
          "execution_count": 41
        }
      ]
    },
    {
      "cell_type": "code",
      "source": [
        "avg = df['totsurp'].mean()\n",
        "print(avg)"
      ],
      "metadata": {
        "colab": {
          "base_uri": "https://localhost:8080/"
        },
        "id": "5ynPFCpx7A37",
        "outputId": "7f85a56f-91f3-4a21-f2dd-65a27eee1a4f"
      },
      "execution_count": 42,
      "outputs": [
        {
          "output_type": "stream",
          "name": "stdout",
          "text": [
            "10.781259934210526\n"
          ]
        }
      ]
    },
    {
      "cell_type": "code",
      "source": [
        "avgerage = df['totsurp'].sum()/df['word'].count()\n",
        "print(avgerage)\n"
      ],
      "metadata": {
        "colab": {
          "base_uri": "https://localhost:8080/"
        },
        "id": "cB7UGhUZ7Ngz",
        "outputId": "13f09e51-a9cb-4d1d-9fc8-93eaf5200a03"
      },
      "execution_count": 43,
      "outputs": [
        {
          "output_type": "stream",
          "name": "stdout",
          "text": [
            "10.781259934210526\n"
          ]
        }
      ]
    },
    {
      "cell_type": "code",
      "source": [
        "import pandas as pd\n",
        "import re\n",
        "\n",
        "# Define a function to check if a word is punctuation\n",
        "def is_punctuation(word):\n",
        "    return re.match(r'^[.,।\\s]+$', str(word)) is not None\n",
        "\n",
        "# Read the CSV file\n",
        "df = pd.read_csv('joota_avg.csv')\n",
        "\n",
        "# Filter out rows where 'Word' column has punctuation\n",
        "filtered_df = df[~df['word'].apply(is_punctuation)]\n",
        "\n",
        "# Calculate the average of the 'totsurp' column\n",
        "avg = filtered_df['totsurp'].mean()\n",
        "\n",
        "# Print the average\n",
        "print(avg)\n"
      ],
      "metadata": {
        "colab": {
          "base_uri": "https://localhost:8080/"
        },
        "id": "XM-WseVB92p_",
        "outputId": "4fc2fc1c-cecc-43b7-e7c2-7afdb7b790c6"
      },
      "execution_count": 2,
      "outputs": [
        {
          "output_type": "stream",
          "name": "stdout",
          "text": [
            "10.8580566\n"
          ]
        }
      ]
    },
    {
      "cell_type": "code",
      "source": [
        "import pandas as pd\n",
        "import re\n",
        "\n",
        "# Define a function to check if a word is punctuation or whitespace\n",
        "def is_punctuation(word):\n",
        "    return re.match(r'^[.,।\\s]+$', str(word)) is not None\n",
        "\n",
        "# Read the CSV file\n",
        "df = pd.read_csv('bhooki_avg.csv')\n",
        "\n",
        "# Filter out rows where the 'word' column has punctuation or whitespace\n",
        "filtered_df = df[~df['word'].apply(is_punctuation)]\n",
        "\n",
        "# Calculate the average of the 'totsurp' column\n",
        "avg = filtered_df['totsurp'].mean()\n",
        "\n",
        "# Print the average\n",
        "print(avg)\n"
      ],
      "metadata": {
        "colab": {
          "base_uri": "https://localhost:8080/"
        },
        "id": "iB3RNxpI96Wl",
        "outputId": "e5d55544-ecc4-481d-8cee-59fca853a479"
      },
      "execution_count": 5,
      "outputs": [
        {
          "output_type": "stream",
          "name": "stdout",
          "text": [
            "11.67149020979021\n"
          ]
        }
      ]
    },
    {
      "cell_type": "code",
      "source": [
        "import pandas as pd\n",
        "import re\n",
        "\n",
        "# Define a function to check if a word is punctuation or whitespace\n",
        "def is_punctuation(word):\n",
        "    return re.match(r'^[.,।\\s]+$', str(word)) is not None\n",
        "\n",
        "# Read the CSV file\n",
        "df = pd.read_csv('kahaniyon_ka_sheher.csv')\n",
        "\n",
        "# Filter out rows where the 'word' column has punctuation or whitespace\n",
        "filtered_df = df[~df['word'].apply(is_punctuation)]\n",
        "\n",
        "# Calculate the average of the 'totsurp' column\n",
        "avg = filtered_df['totsurp'].mean()\n",
        "\n",
        "# Print the average\n",
        "print(avg)\n"
      ],
      "metadata": {
        "colab": {
          "base_uri": "https://localhost:8080/"
        },
        "id": "cwVJBqOM4CUT",
        "outputId": "2001e42c-3761-4cef-8d31-c7fdde505069"
      },
      "execution_count": 6,
      "outputs": [
        {
          "output_type": "stream",
          "name": "stdout",
          "text": [
            "12.799011007751938\n"
          ]
        }
      ]
    }
  ]
}